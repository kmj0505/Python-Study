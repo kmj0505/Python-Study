{
 "cells": [
  {
   "cell_type": "markdown",
   "id": "2c84f386",
   "metadata": {},
   "source": [
    "# 피자 나눠 먹기(1)\n",
    "머쓱이네 피자가게는 피자를 일곱 조각으로 잘라 줍니다. 피자를 나눠먹을 사람의 수 n이 주어질 때, 모든 사람이 피자를 한 조각 이상 먹기 위해 필요한 피자의 수를 return 하는 solution 함수를 완성해보세요.\n",
    "n = 7, result = 1\n",
    "n = 1, result = 1\n",
    "n = 15, result = 3"
   ]
  },
  {
   "cell_type": "code",
   "execution_count": 21,
   "id": "44db9f7d",
   "metadata": {},
   "outputs": [],
   "source": [
    "def solution(n):\n",
    "    if(n%7==0):\n",
    "        answer = n//7\n",
    "    elif(n<7):\n",
    "        answer = 1\n",
    "    else:\n",
    "        answer = n//7+1\n",
    "    return answer"
   ]
  },
  {
   "cell_type": "markdown",
   "id": "7db10dc4",
   "metadata": {},
   "source": [
    "# 배열 뒤집기\n",
    "정수가 들어 있는 배열 num_list가 매개변수로 주어집니다. num_list의 원소의 순서를 거꾸로 뒤집은 배열을 return하도록 solution 함수를 완성해주세요.\n",
    "num_list = [1, 2, 3, 4, 5], result = [5, 4, 3, 2, 1]\n",
    "num_list = [1, 1, 1, 1, 1, 2], result = [2, 1, 1, 1, 1, 1]\n",
    "num_list = [1, 0, 1, 1, 1, 3, 5], result = [5, 3, 1, 1, 1, 0, 1]"
   ]
  },
  {
   "cell_type": "code",
   "execution_count": 110,
   "id": "1bff99df",
   "metadata": {},
   "outputs": [
    {
     "name": "stdout",
     "output_type": "stream",
     "text": [
      "[5, 4, 3, 2, 1]\n"
     ]
    }
   ],
   "source": [
    "def solution(num_list):\n",
    "    answer = num_list\n",
    "    reversed_answer = answer[::-1]\n",
    "    return reversed_answer"
   ]
  },
  {
   "cell_type": "code",
   "execution_count": null,
   "id": "8ad02dc8",
   "metadata": {},
   "outputs": [],
   "source": []
  }
 ],
 "metadata": {
  "kernelspec": {
   "display_name": "Python 3 (ipykernel)",
   "language": "python",
   "name": "python3"
  },
  "language_info": {
   "codemirror_mode": {
    "name": "ipython",
    "version": 3
   },
   "file_extension": ".py",
   "mimetype": "text/x-python",
   "name": "python",
   "nbconvert_exporter": "python",
   "pygments_lexer": "ipython3",
   "version": "3.9.13"
  }
 },
 "nbformat": 4,
 "nbformat_minor": 5
}
