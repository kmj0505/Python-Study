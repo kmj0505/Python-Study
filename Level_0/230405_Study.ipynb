{
 "cells": [
  {
   "cell_type": "markdown",
   "id": "162292cd",
   "metadata": {},
   "source": [
    "# 치킨 쿠폰\n",
    "프로그래머스 치킨은 치킨을 시켜먹으면 한 마리당 쿠폰을 한 장 발급합니다. 쿠폰을 열 장 모으면 치킨을 한 마리 서비스로 받을 수 있고, 서비스 치킨에도 쿠폰이 발급됩니다. 시켜먹은 치킨의 수 chicken이 매개변수로 주어질 때 받을 수 있는 최대 서비스 치킨의 수를 return하도록 solution 함수를 완성해주세요.\n",
    "chicken = 100, result = 11 / chicken = 1081, result = 120"
   ]
  },
  {
   "cell_type": "code",
   "execution_count": 2,
   "id": "906303ad",
   "metadata": {},
   "outputs": [],
   "source": [
    "def solution(chicken):\n",
    "    answer = 0\n",
    "    while(chicken>=10):\n",
    "        coupon = chicken//10\n",
    "        answer = answer + coupon\n",
    "        chicken = chicken%10 + coupon\n",
    "    return answer  "
   ]
  },
  {
   "cell_type": "markdown",
   "id": "5beb99a5",
   "metadata": {},
   "source": [
    "# 종이 자르기\n",
    "정수 M, N이 매개변수로 주어질 때, M x N 크기의 종이를 최소로 가위질 해야하는 횟수를 return 하도록 solution 함수를 완성해보세요.\n",
    "M = 2, N = 2, result = 3 / M = 2, N = 5, result = 9"
   ]
  },
  {
   "cell_type": "code",
   "execution_count": 3,
   "id": "bc7e2f61",
   "metadata": {},
   "outputs": [],
   "source": [
    "def solution(M, N):\n",
    "    return M*N-1"
   ]
  },
  {
   "cell_type": "markdown",
   "id": "3848dcf3",
   "metadata": {},
   "source": [
    "# 다음에 올 숫자\n",
    "등차수열 혹은 등비수열 common이 매개변수로 주어질 때, 마지막 원소 다음으로 올 숫자를 return 하도록 solution 함수를 완성해보세요.\n",
    "common = [1,2,3,4], result = 5 / common = [2,4,8], result = 16"
   ]
  },
  {
   "cell_type": "code",
   "execution_count": 4,
   "id": "336c3a11",
   "metadata": {},
   "outputs": [],
   "source": [
    "def solution(common):\n",
    "    answer = 0\n",
    "    if(common[1]-common[0] == common[2]-common[1]):\n",
    "        answer = common[len(common)-1] + (common[1]-common[0])\n",
    "    elif(common[1]//common[0] == common[2]//common[1]):\n",
    "        answer = common[len(common)-1] * (common[1]//common[0])\n",
    "    return answer"
   ]
  }
 ],
 "metadata": {
  "kernelspec": {
   "display_name": "Python 3 (ipykernel)",
   "language": "python",
   "name": "python3"
  },
  "language_info": {
   "codemirror_mode": {
    "name": "ipython",
    "version": 3
   },
   "file_extension": ".py",
   "mimetype": "text/x-python",
   "name": "python",
   "nbconvert_exporter": "python",
   "pygments_lexer": "ipython3",
   "version": "3.9.13"
  }
 },
 "nbformat": 4,
 "nbformat_minor": 5
}
