{
 "cells": [
  {
   "cell_type": "markdown",
   "id": "cc3532ea",
   "metadata": {},
   "source": [
    "# 암호 해독\n",
    "문자열 cipher와 정수 code가 매개변수로 주어질 때 해독된 암호 문자열을 return하도록 solution 함수를 완성해주세요.\n",
    "cipher = \"dfjardstddetckdaccccdegk\", code = 4, result = \"attack\""
   ]
  },
  {
   "cell_type": "code",
   "execution_count": 1,
   "id": "12c95b8e",
   "metadata": {},
   "outputs": [],
   "source": [
    "def solution(cipher, code):\n",
    "    answer = ''\n",
    "    for i in range(len(cipher)):\n",
    "        i += 1\n",
    "        if(i*code <= len(cipher)):\n",
    "            answer += cipher[i*code-1]\n",
    "    return answer"
   ]
  }
 ],
 "metadata": {
  "kernelspec": {
   "display_name": "Python 3 (ipykernel)",
   "language": "python",
   "name": "python3"
  },
  "language_info": {
   "codemirror_mode": {
    "name": "ipython",
    "version": 3
   },
   "file_extension": ".py",
   "mimetype": "text/x-python",
   "name": "python",
   "nbconvert_exporter": "python",
   "pygments_lexer": "ipython3",
   "version": "3.9.13"
  }
 },
 "nbformat": 4,
 "nbformat_minor": 5
}
