{
 "cells": [
  {
   "cell_type": "markdown",
   "id": "082bea2f",
   "metadata": {},
   "source": [
    "# 자릿수구하기\n",
    "정수 n이 매개변수로 주어질 때 n의 각 자리 숫자의 합을 return하도록 solution 함수를 완성해주세요\n",
    "n = 1234 / result = 10"
   ]
  },
  {
   "cell_type": "code",
   "execution_count": 2,
   "id": "add14343",
   "metadata": {},
   "outputs": [],
   "source": [
    "def solution(n):\n",
    "    n = str(n)\n",
    "    answer = 0\n",
    "    i = 0\n",
    "    for i in range(len(n)):\n",
    "        answer += int(n[i])\n",
    "    return answer"
   ]
  },
  {
   "cell_type": "markdown",
   "id": "82dac9a5",
   "metadata": {},
   "source": [
    "# 짝수의 합\n",
    "정수 n이 주어질 때, n이하의 짝수를 모두 더한 값을 return 하도록 solution 함수를 작성해주세요.\n",
    "n = 10 / result = 30"
   ]
  },
  {
   "cell_type": "code",
   "execution_count": 3,
   "id": "8c12b1f2",
   "metadata": {},
   "outputs": [],
   "source": [
    "def solution(n):\n",
    "    answer = 0\n",
    "    for i in range(n+1):\n",
    "        if (i % 2 == 0):\n",
    "            answer += i\n",
    "    return answer"
   ]
  },
  {
   "cell_type": "markdown",
   "id": "2a1f7e0f",
   "metadata": {},
   "source": [
    "# 각도기\n",
    "각에서 0도 초과 90도 미만은 예각, 90도는 직각, 90도 초과 180도 미만은 둔각 180도는 평각으로 분류합니다. 각 angle이 매개변수로 주어질 때 예각일 때 1, 직각일 때 2, 둔각일 때 3, 평각일 때 4를 return하도록 solution 함수를 완성해주세요.\n",
    "예각 : 0 < angle < 90 / 직각 : angle = 90 / 둔각 : 90 < angle < 180 / 평각 : angle = 180"
   ]
  },
  {
   "cell_type": "code",
   "execution_count": 4,
   "id": "17f935c8",
   "metadata": {},
   "outputs": [],
   "source": [
    "def solution(angle):\n",
    "    if(0<angle<90):\n",
    "        answer = 1\n",
    "    elif(angle == 90):\n",
    "        answer = 2\n",
    "    elif(90<angle<180):\n",
    "        answer = 3\n",
    "    else:\n",
    "        answer = 4\n",
    "    return answer"
   ]
  }
 ],
 "metadata": {
  "kernelspec": {
   "display_name": "Python 3 (ipykernel)",
   "language": "python",
   "name": "python3"
  },
  "language_info": {
   "codemirror_mode": {
    "name": "ipython",
    "version": 3
   },
   "file_extension": ".py",
   "mimetype": "text/x-python",
   "name": "python",
   "nbconvert_exporter": "python",
   "pygments_lexer": "ipython3",
   "version": "3.9.13"
  }
 },
 "nbformat": 4,
 "nbformat_minor": 5
}
