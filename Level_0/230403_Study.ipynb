{
 "cells": [
  {
   "cell_type": "markdown",
   "id": "03741bd9",
   "metadata": {},
   "source": [
    "# 삼각형의 완성조건 (1)\n",
    "삼각형의 세 변의 길이가 담긴 배열 sides이 매개변수로 주어집니다. 세 변으로 삼각형을 만들 수 있다면 1, 만들 수 없다면 2를 return하도록 solution 함수를 완성해주세요."
   ]
  },
  {
   "cell_type": "code",
   "execution_count": 1,
   "id": "89ee651c",
   "metadata": {},
   "outputs": [],
   "source": [
    "def solution(sides):\n",
    "    sides = sorted(sides)\n",
    "    answer = 0\n",
    "    if(sides[0]+sides[1] > sides[2]):\n",
    "        answer = 1\n",
    "    else:\n",
    "        answer = 2\n",
    "    return answer"
   ]
  },
  {
   "cell_type": "markdown",
   "id": "f170b1c6",
   "metadata": {},
   "source": [
    "# 369게임\n",
    " 머쓱이가 말해야하는 숫자 order가 매개변수로 주어질 때, 머쓱이가 쳐야할 박수 횟수를 return 하도록 solution 함수를 완성해보세요.\n",
    " order = 3, result = 1 / order = 29423, result = 2"
   ]
  },
  {
   "cell_type": "code",
   "execution_count": 2,
   "id": "e33bd178",
   "metadata": {},
   "outputs": [],
   "source": [
    "def solution(order):\n",
    "    answer = 0\n",
    "    i = 0\n",
    "    for i in str(order):\n",
    "        if i in [\"3\",\"6\",\"9\"]:\n",
    "            answer = answer + 1\n",
    "    return answer"
   ]
  },
  {
   "cell_type": "markdown",
   "id": "4502107f",
   "metadata": {},
   "source": [
    "# 피자 나눠 먹기 (2)\n",
    "피자를 나눠먹을 사람의 수 n이 매개변수로 주어질 때, n명이 주문한 피자를 남기지 않고 모두 같은 수의 피자 조각을 먹어야 한다면 최소 몇 판을 시켜야 하는지를 return 하도록 solution 함수를 완성해보세요.\n",
    "n = 6, result = 1 / n = 10, result = 5 / n = 4, result = 2"
   ]
  },
  {
   "cell_type": "code",
   "execution_count": 3,
   "id": "3bf89717",
   "metadata": {},
   "outputs": [],
   "source": [
    "def solution(n):\n",
    "    answer = 0\n",
    "    for i in range(1,100):\n",
    "        if(i*n%6 == 0):\n",
    "            answer = i*n //6\n",
    "            break\n",
    "    return answer"
   ]
  }
 ],
 "metadata": {
  "kernelspec": {
   "display_name": "Python 3 (ipykernel)",
   "language": "python",
   "name": "python3"
  },
  "language_info": {
   "codemirror_mode": {
    "name": "ipython",
    "version": 3
   },
   "file_extension": ".py",
   "mimetype": "text/x-python",
   "name": "python",
   "nbconvert_exporter": "python",
   "pygments_lexer": "ipython3",
   "version": "3.9.13"
  }
 },
 "nbformat": 4,
 "nbformat_minor": 5
}
