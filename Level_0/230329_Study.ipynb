{
 "cells": [
  {
   "cell_type": "markdown",
   "id": "94612704",
   "metadata": {},
   "source": [
    "# 편지\n",
    "머쓱이는 할머니께 생신 축하 편지를 쓰려고 합니다. 할머니가 보시기 편하도록 글자 한 자 한 자를 가로 2cm 크기로 적으려고 하며, 편지를 가로로만 적을 때, 축하 문구 message를 적기 위해 필요한 편지지의 최소 가로길이를 return 하도록 solution 함수를 완성해주세요."
   ]
  },
  {
   "cell_type": "code",
   "execution_count": 10,
   "id": "9a1be0ea",
   "metadata": {},
   "outputs": [],
   "source": [
    "def solution(message):\n",
    "    return len(message)*2"
   ]
  },
  {
   "cell_type": "markdown",
   "id": "714fa4fa",
   "metadata": {},
   "source": [
    "# 아이스 아메리카노\n",
    "아이스 아메리카노는 한잔에 5,500원입니다. 머쓱이가 가지고 있는 돈 money가 매개변수로 주어질 때, 머쓱이가 최대로 마실 수 있는 아메리카노의 잔 수와 남는 돈을 순서대로 담은 배열을 return 하도록 solution 함수를 완성해보세요."
   ]
  },
  {
   "cell_type": "code",
   "execution_count": 11,
   "id": "1fcb075c",
   "metadata": {},
   "outputs": [],
   "source": [
    "def solution(money):\n",
    "    x = int(money / 5500)\n",
    "    y = int(money % 5500)\n",
    "    answer = [x,y]\n",
    "    return answer"
   ]
  },
  {
   "cell_type": "markdown",
   "id": "82dd65d7",
   "metadata": {},
   "source": [
    "# 특정 문자 제거하기\n",
    "문자열 my_string과 문자 letter이 매개변수로 주어집니다. my_string에서 letter를 제거한 문자열을 return하도록 solution 함수를 완성해주세요."
   ]
  },
  {
   "cell_type": "code",
   "execution_count": 12,
   "id": "22c9fc8d",
   "metadata": {},
   "outputs": [],
   "source": [
    "def solution(my_string, letter):\n",
    "    answer = my_string.replace(letter,'')\n",
    "    return answer"
   ]
  }
 ],
 "metadata": {
  "kernelspec": {
   "display_name": "Python 3 (ipykernel)",
   "language": "python",
   "name": "python3"
  },
  "language_info": {
   "codemirror_mode": {
    "name": "ipython",
    "version": 3
   },
   "file_extension": ".py",
   "mimetype": "text/x-python",
   "name": "python",
   "nbconvert_exporter": "python",
   "pygments_lexer": "ipython3",
   "version": "3.9.13"
  }
 },
 "nbformat": 4,
 "nbformat_minor": 5
}
