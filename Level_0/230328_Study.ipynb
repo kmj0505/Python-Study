{
 "cells": [
  {
   "cell_type": "markdown",
   "id": "9cad0985",
   "metadata": {},
   "source": [
    "# 옷가게 할인 받기\n",
    "머쓱이네 옷가게는 10만 원 이상 사면 5%, 30만 원 이상 사면 10%, 50만 원 이상 사면 20%를 할인해줍니다.\n",
    "구매한 옷의 가격 price가 주어질 때, 지불해야 할 금액을 return 하도록 solution 함수를 완성해보세요.\n",
    "price = 150,000 / result = 142,500 &\n",
    "price = 580,000 / result = 464,000"
   ]
  },
  {
   "cell_type": "code",
   "execution_count": null,
   "id": "8d9bd96d",
   "metadata": {},
   "outputs": [],
   "source": [
    "def solution(price):\n",
    "    answer = 0\n",
    "    if(100000 <= price < 300000):\n",
    "        answer = int(price * 0.95)\n",
    "    elif(300000 <= price < 500000):\n",
    "        answer = int(price * 0.9)\n",
    "    elif(500000 <= price):\n",
    "        answer = int(price * 0.8)\n",
    "    else:\n",
    "        answer = price\n",
    "    return answer"
   ]
  },
  {
   "cell_type": "markdown",
   "id": "6ffc100c",
   "metadata": {},
   "source": [
    "# 점의 위치 구하기\n",
    "dot[x,y]\n",
    "x좌표, y좌표 = 양수 -> 제 1사분면\n",
    "x좌표 = 음수, y좌표 = 양수 -> 제 2사분면\n",
    "x좌표, y좌표 = 음수 -> 제 3사분면\n",
    "x좌표 = 양수, y좌표 = 음수 -> 제 4사분면일 때 [2,4], [-7,9]의 위치를 구하시오"
   ]
  },
  {
   "cell_type": "code",
   "execution_count": 1,
   "id": "a69529fe",
   "metadata": {},
   "outputs": [],
   "source": [
    "def solution(dot):\n",
    "    answer = 0\n",
    "    x = dot[0]\n",
    "    y = dot[1]\n",
    "    if(x>0 and y>0):\n",
    "        answer = 1\n",
    "    elif(x<0 and y>0):\n",
    "        answer = 2\n",
    "    elif(x<0 and y<0):\n",
    "        answer = 3\n",
    "    elif(x>0 and y<0):\n",
    "        answer = 4\n",
    "    return answer"
   ]
  },
  {
   "cell_type": "markdown",
   "id": "7122b3fb",
   "metadata": {},
   "source": [
    "# 중앙값 구하기\n",
    " 1, 2, 7, 10, 11의 중앙값은 7입니다. 정수 배열 array가 매개변수로 주어질 때, 중앙값을 return 하도록 solution 함수를 완성해보세요."
   ]
  },
  {
   "cell_type": "code",
   "execution_count": 3,
   "id": "6f55cb42",
   "metadata": {},
   "outputs": [],
   "source": [
    "def solution(array):\n",
    "    answer = 0\n",
    "    array = sorted(array) # 오름차순으로 정렬\n",
    "    answer = array[len(array)//2]\n",
    "    return answer"
   ]
  }
 ],
 "metadata": {
  "kernelspec": {
   "display_name": "Python 3 (ipykernel)",
   "language": "python",
   "name": "python3"
  },
  "language_info": {
   "codemirror_mode": {
    "name": "ipython",
    "version": 3
   },
   "file_extension": ".py",
   "mimetype": "text/x-python",
   "name": "python",
   "nbconvert_exporter": "python",
   "pygments_lexer": "ipython3",
   "version": "3.9.13"
  }
 },
 "nbformat": 4,
 "nbformat_minor": 5
}
