{
 "cells": [
  {
   "cell_type": "markdown",
   "id": "fc5a4872",
   "metadata": {},
   "source": [
    "# 짝수 홀수 개수\n",
    "정수가 담긴 리스트 num_list가 주어질 때, num_list의 원소 중 짝수와 홀수의 개수를 담은 배열을 return 하도록 solution 함수를 완성해보세요."
   ]
  },
  {
   "cell_type": "code",
   "execution_count": 1,
   "id": "121c8240",
   "metadata": {},
   "outputs": [],
   "source": [
    "def solution(num_list):\n",
    "    answer = [0, 0]\n",
    "    for i in num_list:\n",
    "        if i % 2 == 0:\n",
    "            answer[0] += 1\n",
    "        elif i % 2 == 1:\n",
    "            answer[1] += 1\n",
    "    return answer"
   ]
  },
  {
   "cell_type": "markdown",
   "id": "eebd1932",
   "metadata": {},
   "source": [
    "# 세균 증식\n",
    "어떤 세균은 1시간에 두배만큼 증식한다고 합니다. 처음 세균의 마리수 n과 경과한 시간 t가 매개변수로 주어질 때 t시간 후 세균의 수를 return하도록 solution 함수를 완성해주세요."
   ]
  },
  {
   "cell_type": "code",
   "execution_count": 2,
   "id": "f0332aec",
   "metadata": {},
   "outputs": [],
   "source": [
    "def solution(n, t):\n",
    "    for i in range(t) :\n",
    "        n *= 2\n",
    "    return n"
   ]
  },
  {
   "cell_type": "markdown",
   "id": "a71e8446",
   "metadata": {},
   "source": [
    "# 문자열 정렬하기(1)\n",
    "문자열 my_string이 매개변수로 주어질 때, my_string 안에 있는 숫자만 골라 오름차순 정렬한 리스트를 return 하도록 solution 함수를 작성해보세요.\n",
    "my_string = \"hi12392\", result = [1,2,2,3,9]"
   ]
  },
  {
   "cell_type": "code",
   "execution_count": 3,
   "id": "7f99a5ed",
   "metadata": {},
   "outputs": [],
   "source": [
    "def solution(my_string):\n",
    "    answer = []\n",
    "    for i in str(my_string):\n",
    "        if(i.isdigit()):\n",
    "            answer.append(int(i))\n",
    "    answer = sorted(answer)\n",
    "    return answer"
   ]
  }
 ],
 "metadata": {
  "kernelspec": {
   "display_name": "Python 3 (ipykernel)",
   "language": "python",
   "name": "python3"
  },
  "language_info": {
   "codemirror_mode": {
    "name": "ipython",
    "version": 3
   },
   "file_extension": ".py",
   "mimetype": "text/x-python",
   "name": "python",
   "nbconvert_exporter": "python",
   "pygments_lexer": "ipython3",
   "version": "3.9.13"
  }
 },
 "nbformat": 4,
 "nbformat_minor": 5
}
