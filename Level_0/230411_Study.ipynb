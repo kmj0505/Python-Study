{
 "cells": [
  {
   "cell_type": "markdown",
   "id": "c7706b9d",
   "metadata": {},
   "source": [
    "# 직각삼각형 출력하기\n",
    "\"*\"의 높이와 너비를 1이라고 했을 때, \"*\"을 이용해 직각 이등변 삼각형을 그리려고합니다. 정수 n 이 주어지면 높이와 너비가 n 인 직각 이등변 삼각형을 출력하도록 코드를 작성해보세요."
   ]
  },
  {
   "cell_type": "code",
   "execution_count": 1,
   "id": "fc66bec7",
   "metadata": {},
   "outputs": [
    {
     "name": "stdout",
     "output_type": "stream",
     "text": [
      "3\n",
      "*\n",
      "**\n",
      "***\n"
     ]
    }
   ],
   "source": [
    "n = int(input())\n",
    "for i in range(1,n+1):\n",
    "    print(\"*\"*i)"
   ]
  },
  {
   "cell_type": "markdown",
   "id": "2ad731b8",
   "metadata": {},
   "source": [
    "# n의 배수 고르기\n",
    "정수 n과 정수 배열 numlist가 매개변수로 주어질 때, numlist에서 n의 배수가 아닌 수들을 제거한 배열을 return하도록 solution 함수를 완성해주세요.\n",
    "n = 3, numlist = [4,5,6,7,8,9,10,11,12], result = [6,9,12]\n"
   ]
  },
  {
   "cell_type": "code",
   "execution_count": 2,
   "id": "01aa7e06",
   "metadata": {},
   "outputs": [],
   "source": [
    "def solution(n, numlist):\n",
    "    answer = []\n",
    "    for i in range(len(numlist)):\n",
    "        if(numlist[i]%n == 0):\n",
    "            answer.append(numlist[i])\n",
    "    return answer"
   ]
  },
  {
   "cell_type": "markdown",
   "id": "ac4aa7c7",
   "metadata": {},
   "source": [
    "# 숫자 찾기\n",
    "정수 num과 k가 매개변수로 주어질 때, num을 이루는 숫자 중에 k가 있으면 num의 그 숫자가 있는 자리 수를 return하고 없으면 -1을 return 하도록 solution 함수를 완성해보세요.\n",
    "num = 29183, k = 1, result = 3\n"
   ]
  },
  {
   "cell_type": "code",
   "execution_count": 4,
   "id": "d753f8cc",
   "metadata": {},
   "outputs": [],
   "source": [
    "def solution(num, k):\n",
    "    answer = 0\n",
    "    answer = str(num).find(str(k))\n",
    "    if(answer!=-1):\n",
    "        answer = answer + 1\n",
    "    return answer"
   ]
  }
 ],
 "metadata": {
  "kernelspec": {
   "display_name": "Python 3 (ipykernel)",
   "language": "python",
   "name": "python3"
  },
  "language_info": {
   "codemirror_mode": {
    "name": "ipython",
    "version": 3
   },
   "file_extension": ".py",
   "mimetype": "text/x-python",
   "name": "python",
   "nbconvert_exporter": "python",
   "pygments_lexer": "ipython3",
   "version": "3.9.13"
  }
 },
 "nbformat": 4,
 "nbformat_minor": 5
}
