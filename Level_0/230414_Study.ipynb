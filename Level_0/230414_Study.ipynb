{
 "cells": [
  {
   "cell_type": "markdown",
   "id": "0afcf2c2",
   "metadata": {},
   "source": [
    "# 모음 제거\n",
    "영어에선 a, e, i, o, u 다섯 가지 알파벳을 모음으로 분류합니다. 문자열 my_string이 매개변수로 주어질 때 모음을 제거한 문자열을 return하도록 solution 함수를 완성해주세요.\n",
    "my_string = \"bus\", result = \"bs\""
   ]
  },
  {
   "cell_type": "code",
   "execution_count": 1,
   "id": "0221f152",
   "metadata": {},
   "outputs": [],
   "source": [
    "def solution(my_string):\n",
    "    alpha = [\"a\",\"e\",\"i\",\"o\",\"u\"]\n",
    "    for i in range(len(alpha)):\n",
    "        my_string = my_string.replace(alpha[i],'')\n",
    "        answer = my_string\n",
    "    return answer"
   ]
  },
  {
   "cell_type": "markdown",
   "id": "b969d184",
   "metadata": {},
   "source": [
    "# 문자열\n",
    "문자열 str1, str2가 매개변수로 주어집니다. str1 안에 str2가 있다면 1을 없다면 2를 return하도록 solution 함수를 완성해주세요.\n",
    "str1 = \"ab6CDE443fgh22iJKlmn1o\", str2 = \"6CD\", result = 1 / str1 = \"ppprrrogrammers\", str2 = \"pppp\", result = 2"
   ]
  },
  {
   "cell_type": "code",
   "execution_count": 2,
   "id": "26aba572",
   "metadata": {},
   "outputs": [],
   "source": [
    "def solution(str1, str2):\n",
    "    result = str1.find(str2)\n",
    "    if(result == -1):\n",
    "        return 2\n",
    "    else:\n",
    "        return 1"
   ]
  }
 ],
 "metadata": {
  "kernelspec": {
   "display_name": "Python 3 (ipykernel)",
   "language": "python",
   "name": "python3"
  },
  "language_info": {
   "codemirror_mode": {
    "name": "ipython",
    "version": 3
   },
   "file_extension": ".py",
   "mimetype": "text/x-python",
   "name": "python",
   "nbconvert_exporter": "python",
   "pygments_lexer": "ipython3",
   "version": "3.9.13"
  }
 },
 "nbformat": 4,
 "nbformat_minor": 5
}
