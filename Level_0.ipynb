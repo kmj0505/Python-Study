{
 "cells": [
  {
   "cell_type": "markdown",
   "id": "2c84f386",
   "metadata": {},
   "source": [
    "# 피자 나눠 먹기(1)\n",
    "머쓱이네 피자가게는 피자를 일곱 조각으로 잘라 줍니다. 피자를 나눠먹을 사람의 수 n이 주어질 때, 모든 사람이 피자를 한 조각 이상 먹기 위해 필요한 피자의 수를 return 하는 solution 함수를 완성해보세요.\n",
    "n = 7, result = 1\n",
    "n = 1, result = 1\n",
    "n = 15, result = 3"
   ]
  },
  {
   "cell_type": "code",
   "execution_count": 21,
   "id": "44db9f7d",
   "metadata": {},
   "outputs": [],
   "source": [
    "def solution(n):\n",
    "    if(n%7==0):\n",
    "        answer = n//7\n",
    "    elif(n<7):\n",
    "        answer = 1\n",
    "    else:\n",
    "        answer = n//7+1\n",
    "    return answer"
   ]
  },
  {
   "cell_type": "markdown",
   "id": "7db10dc4",
   "metadata": {},
   "source": [
    "# 배열 뒤집기\n",
    "정수가 들어 있는 배열 num_list가 매개변수로 주어집니다. num_list의 원소의 순서를 거꾸로 뒤집은 배열을 return하도록 solution 함수를 완성해주세요.\n",
    "num_list = [1, 2, 3, 4, 5], result = [5, 4, 3, 2, 1]\n",
    "num_list = [1, 1, 1, 1, 1, 2], result = [2, 1, 1, 1, 1, 1]\n",
    "num_list = [1, 0, 1, 1, 1, 3, 5], result = [5, 3, 1, 1, 1, 0, 1]"
   ]
  },
  {
   "cell_type": "code",
   "execution_count": 110,
   "id": "1bff99df",
   "metadata": {},
   "outputs": [
    {
     "name": "stdout",
     "output_type": "stream",
     "text": [
      "[5, 4, 3, 2, 1]\n"
     ]
    }
   ],
   "source": [
    "def solution(num_list):\n",
    "    answer = num_list\n",
    "    reversed_answer = answer[::-1]\n",
    "    return reversed_answer"
   ]
  },
  {
   "cell_type": "markdown",
   "id": "95dd5989",
   "metadata": {},
   "source": [
    "# 머쓱이보다 키 큰 사람\n",
    "머쓱이네 반 친구들의 키가 담긴 정수 배열 array와 머쓱이의 키 height가 매개변수로 주어질 때, 머쓱이보다 키 큰 사람 수를 return 하도록 solution 함수를 완성해보세요.\n",
    "array = [149, 180, 192, 170], height = 167, result = 3\n",
    "array = [180, 120, 140], height = 190, result = 0"
   ]
  },
  {
   "cell_type": "code",
   "execution_count": 1,
   "id": "c44a74d6",
   "metadata": {},
   "outputs": [],
   "source": [
    "def solution(array, height):\n",
    "    \n",
    "    answer = 0\n",
    "    for x in range(len(array)):\n",
    "        if(height<array[x]):\n",
    "            answer += 1\n",
    "\n",
    "    return answer"
   ]
  },
  {
   "cell_type": "markdown",
   "id": "9cad0985",
   "metadata": {},
   "source": [
    "# 옷가게 할인 받기\n",
    "머쓱이네 옷가게는 10만 원 이상 사면 5%, 30만 원 이상 사면 10%, 50만 원 이상 사면 20%를 할인해줍니다.\n",
    "구매한 옷의 가격 price가 주어질 때, 지불해야 할 금액을 return 하도록 solution 함수를 완성해보세요.\n",
    "price = 150,000 / result = 142,500 &\n",
    "price = 580,000 / result = 464,000"
   ]
  },
  {
   "cell_type": "code",
   "execution_count": null,
   "id": "8d9bd96d",
   "metadata": {},
   "outputs": [],
   "source": [
    "def solution(price):\n",
    "    answer = 0\n",
    "    if(100000 <= price < 300000):\n",
    "        answer = int(price * 0.95)\n",
    "    elif(300000 <= price < 500000):\n",
    "        answer = int(price * 0.9)\n",
    "    elif(500000 <= price):\n",
    "        answer = int(price * 0.8)\n",
    "    else:\n",
    "        answer = price\n",
    "    return answer"
   ]
  }
 ],
 "metadata": {
  "kernelspec": {
   "display_name": "Python 3 (ipykernel)",
   "language": "python",
   "name": "python3"
  },
  "language_info": {
   "codemirror_mode": {
    "name": "ipython",
    "version": 3
   },
   "file_extension": ".py",
   "mimetype": "text/x-python",
   "name": "python",
   "nbconvert_exporter": "python",
   "pygments_lexer": "ipython3",
   "version": "3.9.13"
  }
 },
 "nbformat": 4,
 "nbformat_minor": 5
}
